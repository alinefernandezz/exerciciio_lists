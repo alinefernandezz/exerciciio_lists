{
  "nbformat": 4,
  "nbformat_minor": 0,
  "metadata": {
    "colab": {
      "provenance": []
    },
    "kernelspec": {
      "name": "python3",
      "display_name": "Python 3"
    },
    "language_info": {
      "name": "python"
    }
  },
  "cells": [
    {
      "cell_type": "markdown",
      "source": [
        "1. Ler uma lista de 5 números interios e mostre cada número juntamente com a sua posição na lista."
      ],
      "metadata": {
        "id": "KhCRqCzB-e2Q"
      }
    },
    {
      "cell_type": "code",
      "source": [
        "lista = [-7,2,20,-4,5]\n",
        "for idx, item in enumerate(lista):\n",
        "  print(f'{idx}:{item}')"
      ],
      "metadata": {
        "colab": {
          "base_uri": "https://localhost:8080/"
        },
        "id": "9kCEfA3t-jNq",
        "outputId": "38b94470-4e39-4153-b551-e9875417357e"
      },
      "execution_count": null,
      "outputs": [
        {
          "output_type": "stream",
          "name": "stdout",
          "text": [
            "0:-7\n",
            "1:2\n",
            "2:20\n",
            "3:-4\n",
            "4:5\n"
          ]
        }
      ]
    },
    {
      "cell_type": "markdown",
      "source": [
        "2. Ler uma lista de 10 números reais e mostre-os na ordem inversa que foram lidos."
      ],
      "metadata": {
        "id": "xqgE_qhwAycr"
      }
    },
    {
      "cell_type": "code",
      "source": [
        "lista = [6.5,8.2,7.4,2.8,0.5,2.7,6.2,8.3,4.2,1.3]\n",
        "\n",
        "lista.reverse()\n",
        "print(lista)\n"
      ],
      "metadata": {
        "colab": {
          "base_uri": "https://localhost:8080/"
        },
        "id": "MZzNARuG-7RK",
        "outputId": "e625c299-d5c0-40c3-d036-95e15372f0ff"
      },
      "execution_count": null,
      "outputs": [
        {
          "output_type": "stream",
          "name": "stdout",
          "text": [
            "[1.3, 4.2, 8.3, 6.2, 2.7, 0.5, 2.8, 7.4, 8.2, 6.5]\n"
          ]
        }
      ]
    },
    {
      "cell_type": "markdown",
      "source": [
        "3. Ler uma lista com 5 idades e exibir e exibir a maior e a menor."
      ],
      "metadata": {
        "id": "fnNbE0PnDzBe"
      }
    },
    {
      "cell_type": "code",
      "source": [
        "idade = [10, 12, 15, 16, 25]\n",
        "\n",
        "idademin = min(idade)\n",
        "idademax = max(idade)\n",
        "print('A menor idade é {} anos.'.format(idademin))\n",
        "print('A maior idade é {} anos.'.format(idademax))"
      ],
      "metadata": {
        "colab": {
          "base_uri": "https://localhost:8080/"
        },
        "id": "h928G2mrBTCy",
        "outputId": "0063aa4b-7723-4e4b-a769-d15623a941ac"
      },
      "execution_count": null,
      "outputs": [
        {
          "output_type": "stream",
          "name": "stdout",
          "text": [
            "A menor idade é 10 anos.\n",
            "A maior idade é 25 anos.\n"
          ]
        }
      ]
    },
    {
      "cell_type": "markdown",
      "source": [
        "4. Inicialize uma lista de 10 números inteiros. Armezene os números pares em uma lista PAR e os números impares em uma lista IMPAR. Imprima as listas PAR e IMPAR."
      ],
      "metadata": {
        "id": "k-AQOeZZF2oM"
      }
    },
    {
      "cell_type": "code",
      "source": [
        "lista = [10, 20,21, 45, 678, 23, 22, 87, 40, 37]\n",
        "\n",
        "par = []\n",
        "impar = []\n",
        "\n",
        "for i in lista:\n",
        "  if i % 2 == 0:\n",
        "    par.append(i)\n",
        "  else:\n",
        "    impar.append(i)\n",
        "\n",
        "print('A lista criada possui os números {} como pares e os números {} como impares'.format(par, impar))"
      ],
      "metadata": {
        "colab": {
          "base_uri": "https://localhost:8080/"
        },
        "id": "7rgRv7N5GviI",
        "outputId": "0d212671-2633-4951-95fe-c6665ed523b7"
      },
      "execution_count": null,
      "outputs": [
        {
          "output_type": "stream",
          "name": "stdout",
          "text": [
            "A lista criada possui os números [10, 20, 678, 22, 40] como pares e os números [21, 45, 23, 87, 37] como impares\n"
          ]
        }
      ]
    },
    {
      "cell_type": "markdown",
      "source": [
        "5. Escreva um programa que troque o primeiro com o último\n",
        "elemento de uma lista qualquer."
      ],
      "metadata": {
        "id": "beVWjfMLK4D-"
      }
    },
    {
      "cell_type": "code",
      "source": [
        "numeros = list(range(10))\n",
        "\n",
        "if len(numeros) >=2:\n",
        "  numeros[0], numeros[-1] = numeros[-1], numeros[0]\n",
        "\n",
        "print('Esta é a lista com os números invertidos: {}'.format(numeros))\n",
        "\n"
      ],
      "metadata": {
        "id": "vvILlXS-K5B9",
        "colab": {
          "base_uri": "https://localhost:8080/"
        },
        "outputId": "4928fb3c-3933-4338-c328-212c9ca50054"
      },
      "execution_count": null,
      "outputs": [
        {
          "output_type": "stream",
          "name": "stdout",
          "text": [
            "Esta é a lista com os números invertidos: [9, 1, 2, 3, 4, 5, 6, 7, 8, 0]\n"
          ]
        }
      ]
    },
    {
      "cell_type": "markdown",
      "source": [
        "6. Qual a saída/resultado da seguinte compreesao de lista?"
      ],
      "metadata": {
        "id": "Vvpw1MMrp1Kt"
      }
    },
    {
      "cell_type": "code",
      "source": [
        "list_comprehenssion = [[1 + j*3+i for i in range(3) for j in range(3)]]\n",
        "\n",
        "for i in list_comprehenssion:\n",
        "  print(list_comprehenssion)\n",
        "\n"
      ],
      "metadata": {
        "colab": {
          "base_uri": "https://localhost:8080/"
        },
        "id": "IbJf7zcEpxue",
        "outputId": "89601a92-b18f-4abb-e78b-21d8e95836f8"
      },
      "execution_count": null,
      "outputs": [
        {
          "output_type": "stream",
          "name": "stdout",
          "text": [
            "[[1, 4, 7, 2, 5, 8, 3, 6, 9]]\n"
          ]
        }
      ]
    },
    {
      "cell_type": "markdown",
      "source": [
        "7. Considere que você recebe um dicionário contendo informações sobre produtos em\n",
        "uma loja. Cada chave do dicionário é o nome de um produto e cada valor é uma tupla\n",
        "contendo o preço e a quantidade em estoque desse produto.\n",
        "produtos = {\n",
        "'camiseta': (25.00, 10),\n",
        "'calça': (45.00, 5),\n",
        "'sapato': (60.00, 3),\n",
        "'boné': (15.00, 8)\n",
        "}\n",
        "Você deve criar um programa em Python que solicite ao usuário que insira um preço\n",
        "máximo. Em seguida, o programa deve imprimir os produtos cujo preço seja menor ou\n",
        "igual ao preço máximo inserido pelo usuário."
      ],
      "metadata": {
        "id": "g6zLj53MrmrZ"
      }
    },
    {
      "cell_type": "code",
      "source": [
        "produtos = {'camiseta': (25.00,10),\n",
        "'calça': (45.00,5),\n",
        "'sapato':(60.00,3),\n",
        "'bone': (15.00,8),\n",
        "}\n",
        "\n",
        "preco = float(input('Digite até que valor você pode gastar: '))\n",
        "\n",
        "print('Estes são os produtos que estão dentro do orçamento: ')\n",
        "\n",
        "for produto, (valor, quantidade) in produtos.items():\n",
        "  if valor <= preco:\n",
        "    print(produto)\n",
        "\n",
        "\n"
      ],
      "metadata": {
        "colab": {
          "base_uri": "https://localhost:8080/"
        },
        "id": "ptMkxrFXrhwU",
        "outputId": "e110a12e-3f99-4cb0-9292-b808af5c6474"
      },
      "execution_count": null,
      "outputs": [
        {
          "output_type": "stream",
          "name": "stdout",
          "text": [
            "Digite até que valor você pode gastar: 70\n",
            "Estes são os produtos que estão dentro do orçamento: \n",
            "camiseta\n",
            "calça\n",
            "sapato\n",
            "bone\n"
          ]
        }
      ]
    },
    {
      "cell_type": "markdown",
      "source": [
        "8.Em uma competição de ginástica, cada atleta recebe votos de\n",
        "sete jurados. A melhor e a pior nota são eliminadas. A sua nota fica\n",
        "sendo a média dos votos restantes. Você deve fazer um programa\n",
        "que receba o nome do ginasta e as notas dos sete jurados\n",
        "alcançadas pelo atleta em sua apresentação e depois informe a sua\n",
        "média, conforme a descrição acima informada (retirar o melhor e o\n",
        "pior salto e depois calcular a média com as notas restantes). As\n",
        "notas não são informadas em ordem crescente ou decrescente."
      ],
      "metadata": {
        "id": "kK_dq6JPwTpl"
      }
    },
    {
      "cell_type": "code",
      "source": [
        "ginasta = input('Digite o nome do ginasta: ')\n",
        "\n",
        "notas = []\n",
        "for i in range(7):\n",
        "  nota = float(input('Digite a nota fornecida pelo jurado: {}'.format(i+1)))\n",
        "  notas.append(nota)\n",
        "\n",
        "notas_top = max(notas)\n",
        "notas_ruins = min(notas)\n",
        "\n",
        "notas.remove(notas_top)\n",
        "notas.remove(notas_ruins)\n",
        "\n",
        "media = sum(notas)/len(notas)\n",
        "\n",
        "print('A média do ginasta {} é {}'.format(ginasta, media))\n",
        "print('A nota ruim tirada pelo (a) ginasta {} foi {}'.format(ginasta, notas_ruins))\n",
        "print('A melhor nota tirada pelo (a) ginasta {} foi {}'.format(ginasta, notas_top))\n",
        "\n",
        "\n"
      ],
      "metadata": {
        "colab": {
          "base_uri": "https://localhost:8080/"
        },
        "id": "mtLwB0hpwW5-",
        "outputId": "efa990fd-2fde-445f-8553-6ac59c3dcc50"
      },
      "execution_count": null,
      "outputs": [
        {
          "output_type": "stream",
          "name": "stdout",
          "text": [
            "Digite o nome do ginasta: Ana Paula\n",
            "Digite a nota fornecida pelo jurado: 11\n",
            "Digite a nota fornecida pelo jurado: 25\n",
            "Digite a nota fornecida pelo jurado: 37\n",
            "Digite a nota fornecida pelo jurado: 49\n",
            "Digite a nota fornecida pelo jurado: 510\n",
            "Digite a nota fornecida pelo jurado: 65\n",
            "Digite a nota fornecida pelo jurado: 76\n",
            "A média do ginasta Ana Paula é 6.4\n",
            "A nota ruim tiradas pelo (a) ginasta Ana Paula foi 1.0\n",
            "A melhor nota tirada pelo (a) ginasta Ana Paula foi 10.0\n"
          ]
        }
      ]
    }
  ]
}